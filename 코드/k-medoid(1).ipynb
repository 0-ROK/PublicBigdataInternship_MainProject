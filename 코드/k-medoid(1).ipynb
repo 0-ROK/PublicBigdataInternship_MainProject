{
 "cells": [
  {
   "cell_type": "code",
   "execution_count": 3,
   "id": "6570db48-6c1c-410c-ab53-a3bc29e3b944",
   "metadata": {},
   "outputs": [
    {
     "name": "stdout",
     "output_type": "stream",
     "text": [
      "Collecting scikit-learn-extra\n",
      "  Downloading scikit_learn_extra-0.2.0-cp38-cp38-win_amd64.whl (381 kB)\n",
      "Requirement already satisfied: numpy>=1.13.3 in c:\\users\\user\\anaconda3\\lib\\site-packages (from scikit-learn-extra) (1.20.1)\n",
      "Requirement already satisfied: scikit-learn>=0.23.0 in c:\\users\\user\\anaconda3\\lib\\site-packages (from scikit-learn-extra) (0.24.2)\n",
      "Requirement already satisfied: scipy>=0.19.1 in c:\\users\\user\\anaconda3\\lib\\site-packages (from scikit-learn-extra) (1.6.2)\n",
      "Requirement already satisfied: threadpoolctl>=2.0.0 in c:\\users\\user\\anaconda3\\lib\\site-packages (from scikit-learn>=0.23.0->scikit-learn-extra) (2.1.0)\n",
      "Requirement already satisfied: joblib>=0.11 in c:\\users\\user\\anaconda3\\lib\\site-packages (from scikit-learn>=0.23.0->scikit-learn-extra) (1.0.1)\n",
      "Installing collected packages: scikit-learn-extra\n",
      "Successfully installed scikit-learn-extra-0.2.0\n",
      "Note: you may need to restart the kernel to use updated packages.\n"
     ]
    }
   ],
   "source": [
    "pip install scikit-learn-extra"
   ]
  },
  {
   "cell_type": "code",
   "execution_count": 4,
   "id": "b650a6bd-34ce-4b8b-8309-369099579626",
   "metadata": {},
   "outputs": [],
   "source": [
    "import numpy as np\n",
    "import matplotlib.pyplot as plt\n",
    "import pandas as pd\n",
    "from sklearn.cluster import KMeans\n",
    "from sklearn_extra.cluster import KMedoids\n",
    "%matplotlib inline\n",
    "\n",
    "from sklearn.decomposition import PCA\n",
    "import warnings\n",
    "warnings.filterwarnings('ignore')"
   ]
  },
  {
   "cell_type": "code",
   "execution_count": 42,
   "id": "cb26e7ad-3142-441a-88c3-7b80ab831bed",
   "metadata": {
    "scrolled": true,
    "tags": []
   },
   "outputs": [
    {
     "data": {
      "text/html": [
       "<div>\n",
       "<style scoped>\n",
       "    .dataframe tbody tr th:only-of-type {\n",
       "        vertical-align: middle;\n",
       "    }\n",
       "\n",
       "    .dataframe tbody tr th {\n",
       "        vertical-align: top;\n",
       "    }\n",
       "\n",
       "    .dataframe thead th {\n",
       "        text-align: right;\n",
       "    }\n",
       "</style>\n",
       "<table border=\"1\" class=\"dataframe\">\n",
       "  <thead>\n",
       "    <tr style=\"text-align: right;\">\n",
       "      <th></th>\n",
       "      <th>택스_승차합</th>\n",
       "      <th>택시_하차합</th>\n",
       "      <th>BUS_정류장_개수</th>\n",
       "      <th>BUS_탑승</th>\n",
       "      <th>BUS_하차</th>\n",
       "      <th>BUS_환승</th>\n",
       "      <th>고령인구 발생량</th>\n",
       "      <th>고령인구 도착량</th>\n",
       "      <th>교통유동량</th>\n",
       "      <th>버스혼잡도</th>\n",
       "    </tr>\n",
       "  </thead>\n",
       "  <tbody>\n",
       "    <tr>\n",
       "      <th>0</th>\n",
       "      <td>10407</td>\n",
       "      <td>8604</td>\n",
       "      <td>7</td>\n",
       "      <td>534244</td>\n",
       "      <td>443947</td>\n",
       "      <td>239119</td>\n",
       "      <td>886</td>\n",
       "      <td>1018</td>\n",
       "      <td>997202</td>\n",
       "      <td>597665.000000</td>\n",
       "    </tr>\n",
       "    <tr>\n",
       "      <th>1</th>\n",
       "      <td>16079</td>\n",
       "      <td>14672</td>\n",
       "      <td>9</td>\n",
       "      <td>109486</td>\n",
       "      <td>90610</td>\n",
       "      <td>22056</td>\n",
       "      <td>391</td>\n",
       "      <td>102</td>\n",
       "      <td>230847</td>\n",
       "      <td>119553.777800</td>\n",
       "    </tr>\n",
       "    <tr>\n",
       "      <th>2</th>\n",
       "      <td>6181</td>\n",
       "      <td>6680</td>\n",
       "      <td>7</td>\n",
       "      <td>52783</td>\n",
       "      <td>45757</td>\n",
       "      <td>5595</td>\n",
       "      <td>50</td>\n",
       "      <td>4</td>\n",
       "      <td>111401</td>\n",
       "      <td>59319.714290</td>\n",
       "    </tr>\n",
       "    <tr>\n",
       "      <th>3</th>\n",
       "      <td>9901</td>\n",
       "      <td>12841</td>\n",
       "      <td>10</td>\n",
       "      <td>39214</td>\n",
       "      <td>32618</td>\n",
       "      <td>1133</td>\n",
       "      <td>28</td>\n",
       "      <td>7</td>\n",
       "      <td>94574</td>\n",
       "      <td>42475.800000</td>\n",
       "    </tr>\n",
       "    <tr>\n",
       "      <th>4</th>\n",
       "      <td>32633</td>\n",
       "      <td>35952</td>\n",
       "      <td>25</td>\n",
       "      <td>181248</td>\n",
       "      <td>168749</td>\n",
       "      <td>10920</td>\n",
       "      <td>218</td>\n",
       "      <td>32</td>\n",
       "      <td>418582</td>\n",
       "      <td>187997.960000</td>\n",
       "    </tr>\n",
       "    <tr>\n",
       "      <th>...</th>\n",
       "      <td>...</td>\n",
       "      <td>...</td>\n",
       "      <td>...</td>\n",
       "      <td>...</td>\n",
       "      <td>...</td>\n",
       "      <td>...</td>\n",
       "      <td>...</td>\n",
       "      <td>...</td>\n",
       "      <td>...</td>\n",
       "      <td>...</td>\n",
       "    </tr>\n",
       "    <tr>\n",
       "      <th>172</th>\n",
       "      <td>0</td>\n",
       "      <td>0</td>\n",
       "      <td>0</td>\n",
       "      <td>0</td>\n",
       "      <td>0</td>\n",
       "      <td>0</td>\n",
       "      <td>0</td>\n",
       "      <td>0</td>\n",
       "      <td>0</td>\n",
       "      <td>0.000000</td>\n",
       "    </tr>\n",
       "    <tr>\n",
       "      <th>173</th>\n",
       "      <td>0</td>\n",
       "      <td>0</td>\n",
       "      <td>0</td>\n",
       "      <td>0</td>\n",
       "      <td>0</td>\n",
       "      <td>0</td>\n",
       "      <td>0</td>\n",
       "      <td>0</td>\n",
       "      <td>0</td>\n",
       "      <td>0.000000</td>\n",
       "    </tr>\n",
       "    <tr>\n",
       "      <th>174</th>\n",
       "      <td>24</td>\n",
       "      <td>138</td>\n",
       "      <td>8</td>\n",
       "      <td>898</td>\n",
       "      <td>612</td>\n",
       "      <td>3</td>\n",
       "      <td>1</td>\n",
       "      <td>0</td>\n",
       "      <td>1672</td>\n",
       "      <td>974.500000</td>\n",
       "    </tr>\n",
       "    <tr>\n",
       "      <th>175</th>\n",
       "      <td>45</td>\n",
       "      <td>225</td>\n",
       "      <td>11</td>\n",
       "      <td>2525</td>\n",
       "      <td>1997</td>\n",
       "      <td>5</td>\n",
       "      <td>1</td>\n",
       "      <td>0</td>\n",
       "      <td>4792</td>\n",
       "      <td>2706.545455</td>\n",
       "    </tr>\n",
       "    <tr>\n",
       "      <th>176</th>\n",
       "      <td>18845</td>\n",
       "      <td>23155</td>\n",
       "      <td>24</td>\n",
       "      <td>237213</td>\n",
       "      <td>197193</td>\n",
       "      <td>29536</td>\n",
       "      <td>127</td>\n",
       "      <td>9</td>\n",
       "      <td>476406</td>\n",
       "      <td>245429.375000</td>\n",
       "    </tr>\n",
       "  </tbody>\n",
       "</table>\n",
       "<p>177 rows × 10 columns</p>\n",
       "</div>"
      ],
      "text/plain": [
       "     택스_승차합  택시_하차합  BUS_정류장_개수  BUS_탑승  BUS_하차  BUS_환승  고령인구 발생량  고령인구 도착량  \\\n",
       "0     10407    8604           7  534244  443947  239119       886      1018   \n",
       "1     16079   14672           9  109486   90610   22056       391       102   \n",
       "2      6181    6680           7   52783   45757    5595        50         4   \n",
       "3      9901   12841          10   39214   32618    1133        28         7   \n",
       "4     32633   35952          25  181248  168749   10920       218        32   \n",
       "..      ...     ...         ...     ...     ...     ...       ...       ...   \n",
       "172       0       0           0       0       0       0         0         0   \n",
       "173       0       0           0       0       0       0         0         0   \n",
       "174      24     138           8     898     612       3         1         0   \n",
       "175      45     225          11    2525    1997       5         1         0   \n",
       "176   18845   23155          24  237213  197193   29536       127         9   \n",
       "\n",
       "      교통유동량          버스혼잡도  \n",
       "0    997202  597665.000000  \n",
       "1    230847  119553.777800  \n",
       "2    111401   59319.714290  \n",
       "3     94574   42475.800000  \n",
       "4    418582  187997.960000  \n",
       "..      ...            ...  \n",
       "172       0       0.000000  \n",
       "173       0       0.000000  \n",
       "174    1672     974.500000  \n",
       "175    4792    2706.545455  \n",
       "176  476406  245429.375000  \n",
       "\n",
       "[177 rows x 10 columns]"
      ]
     },
     "execution_count": 42,
     "metadata": {},
     "output_type": "execute_result"
    }
   ],
   "source": [
    "data = pd.read_csv('법정동_데이터셋.csv',encoding ='UTF-8')\n",
    "df = pd.DataFrame(data)\n",
    "df1 = df.iloc[:,2:]\n",
    "df1"
   ]
  },
  {
   "cell_type": "code",
   "execution_count": 43,
   "id": "a6a3d56c-974f-4963-88cd-ad4fbd4030ba",
   "metadata": {},
   "outputs": [
    {
     "data": {
      "text/plain": [
       "Index(['택스_승차합', '택시_하차합', 'BUS_정류장_개수', 'BUS_탑승', 'BUS_하차', 'BUS_환승',\n",
       "       '고령인구 발생량', '고령인구 도착량', '교통유동량', '버스혼잡도'],\n",
       "      dtype='object')"
      ]
     },
     "execution_count": 43,
     "metadata": {},
     "output_type": "execute_result"
    }
   ],
   "source": [
    "df1.columns"
   ]
  },
  {
   "cell_type": "code",
   "execution_count": 45,
   "id": "900238bd-f0e8-4c68-998d-eb8086154c0b",
   "metadata": {},
   "outputs": [],
   "source": [
    "features = ['택스_승차합', '택시_하차합', 'BUS_정류장_개수', 'BUS_탑승', 'BUS_하차', 'BUS_환승','고령인구 발생량', '고령인구 도착량','교통유동량', '버스혼잡도']\n",
    "x = df.loc[:, features].values"
   ]
  },
  {
   "cell_type": "code",
   "execution_count": 24,
   "id": "f944d920-b19d-40fc-891d-34af4f49921b",
   "metadata": {},
   "outputs": [],
   "source": [
    "# from sklearn.preprocessing import StandardScaler\n",
    "# x_1 = StandardScaler().fit_transform(x)\n",
    "\n",
    "# from sklearn.decomposition import PCA\n",
    "# pca = PCA(n_components=2)\n",
    "# principalComponents = pca.fit_transform(x_1)\n",
    "# PDF = pd.DataFrame(data = principalComponents, columns = ['PC1', 'PC2'])"
   ]
  },
  {
   "cell_type": "code",
   "execution_count": 49,
   "id": "33ff62f4-d643-4168-8702-1fc88db2a0e5",
   "metadata": {},
   "outputs": [],
   "source": [
    "x = df[['교통유동량']]\n",
    "y = df[['버스혼잡도']]"
   ]
  },
  {
   "cell_type": "code",
   "execution_count": 50,
   "id": "424dddb2-3d26-4baf-9757-bc2a790317e6",
   "metadata": {},
   "outputs": [],
   "source": [
    "from sklearn.preprocessing import StandardScaler\n",
    "scaler = StandardScaler().fit(x)\n",
    "x_scaled = scaler.transform(x)\n",
    "kMedoids = KMedoids(n_clusters = 3, random_state = 0)\n",
    "kMedoids.fit(x_scaled)\n",
    "y_kmed = kMedoids.fit_predict(x_scaled)"
   ]
  },
  {
   "cell_type": "code",
   "execution_count": 51,
   "id": "3291353b-ed7d-4cf4-a4b7-a3ba50fe9f01",
   "metadata": {},
   "outputs": [
    {
     "data": {
      "text/plain": [
       "array([2, 1, 1, 0, 1, 1, 2, 0, 2, 2, 2, 0, 1, 2, 2, 2, 1, 2, 2, 2, 0, 0,\n",
       "       0, 0, 0, 0, 0, 0, 0, 0, 0, 0, 0, 0, 0, 1, 0, 0, 1, 0, 0, 0, 0, 0,\n",
       "       0, 2, 2, 1, 2, 2, 1, 1, 0, 1, 1, 1, 1, 2, 2, 2, 2, 2, 1, 0, 0, 0,\n",
       "       0, 0, 0, 0, 0, 1, 2, 2, 2, 1, 2, 2, 1, 2, 2, 2, 2, 2, 2, 2, 0, 0,\n",
       "       0, 0, 0, 0, 0, 0, 0, 0, 0, 2, 2, 0, 1, 0, 0, 0, 0, 0, 0, 0, 2, 1,\n",
       "       1, 1, 1, 0, 1, 0, 1, 2, 0, 2, 1, 1, 1, 0, 1, 1, 0, 0, 0, 1, 0, 0,\n",
       "       0, 0, 0, 0, 1, 0, 1, 0, 0, 1, 0, 2, 2, 0, 0, 0, 0, 0, 0, 2, 1, 1,\n",
       "       0, 1, 1, 2, 2, 2, 2, 1, 1, 0, 1, 1, 1, 0, 0, 0, 0, 0, 0, 0, 0, 0,\n",
       "       2], dtype=int64)"
      ]
     },
     "execution_count": 51,
     "metadata": {},
     "output_type": "execute_result"
    }
   ],
   "source": [
    "y_kmed"
   ]
  },
  {
   "cell_type": "code",
   "execution_count": 52,
   "id": "637f5800-8f99-4543-a128-529428432436",
   "metadata": {},
   "outputs": [
    {
     "data": {
      "text/plain": [
       "41.338740949899346"
      ]
     },
     "execution_count": 52,
     "metadata": {},
     "output_type": "execute_result"
    }
   ],
   "source": [
    "kMedoids.inertia_"
   ]
  },
  {
   "cell_type": "code",
   "execution_count": 53,
   "id": "d45ba396-da37-425f-a46c-87a9b947893d",
   "metadata": {},
   "outputs": [
    {
     "name": "stdout",
     "output_type": "stream",
     "text": [
      "0.5423061084819626\n"
     ]
    }
   ],
   "source": [
    "from sklearn.metrics import silhouette_samples, silhouette_score\n",
    "kMedoids = KMedoids(n_clusters = 3, random_state = 0)\n",
    "kMedoids.fit(x_scaled)\n",
    "y_kmed = kMedoids.fit_predict(x_scaled)\n",
    "silhouette_avg = silhouette_score(x_scaled, y_kmed)\n",
    "print(silhouette_avg)"
   ]
  },
  {
   "cell_type": "code",
   "execution_count": 54,
   "id": "c788aa4c-2975-4cb7-95b9-14095a09edc6",
   "metadata": {},
   "outputs": [
    {
     "name": "stdout",
     "output_type": "stream",
     "text": [
      "0.8809340098916268\n",
      "0.37525979539691307\n",
      "0.04343460740844553\n"
     ]
    }
   ],
   "source": [
    "sample_silhouette_values = silhouette_samples(x_scaled, y_kmed)\n",
    "for i in range(3):\n",
    "    ith_cluster_silhouette_values = sample_silhouette_values[y_kmed == i]\n",
    "    print(np.mean(ith_cluster_silhouette_values))"
   ]
  },
  {
   "cell_type": "code",
   "execution_count": 55,
   "id": "274ed3b0-014e-41e5-9e20-9497493b1929",
   "metadata": {},
   "outputs": [],
   "source": [
    "sw = []\n",
    "\n",
    "for i in range(2, 11):\n",
    "    kMedoids = KMedoids(n_clusters = i, random_state = 0)\n",
    "    kMedoids.fit(x_scaled)\n",
    "    y_kmed = kMedoids.fit_predict(x_scaled)\n",
    "    silhouette_avg = silhouette_score(x_scaled, y_kmed)\n",
    "    sw.append(silhouette_avg)"
   ]
  },
  {
   "cell_type": "code",
   "execution_count": 56,
   "id": "0f9d25ae-c782-4742-86e9-0fa909195d69",
   "metadata": {},
   "outputs": [
    {
     "data": {
      "image/png": "[encoded data removed]",
      "text/plain": [
       "<Figure size 432x288 with 1 Axes>"
      ]
     },
     "metadata": {
      "needs_background": "light"
     },
     "output_type": "display_data"
    }
   ],
   "source": [
    "plt.plot(range(2, 11), sw)\n",
    "plt.title('Silhoute Score')\n",
    "plt.xlabel('Number of clusters')\n",
    "plt.ylabel('SW')      #within cluster sum of squares\n",
    "plt.show()"
   ]
  },
  {
   "cell_type": "code",
   "execution_count": 71,
   "id": "c1f8049f-a3ef-4e17-9cea-d377162d20d0",
   "metadata": {},
   "outputs": [],
   "source": [
    "from sklearn import metrics\n",
    "\n",
    "def purity_score(y_true, y_pred):\n",
    "    # compute contingency matrix (also called confusion matrix)\n",
    "    contingency_matrix = metrics.cluster.contingency_matrix(y_true, y_pred)\n",
    "    # return purity\n",
    "    return np.sum(np.amax(contingency_matrix, axis=0)) / np.sum(contingency_matrix)"
   ]
  },
  {
   "cell_type": "code",
   "execution_count": 72,
   "id": "db01fc97-7f25-4a9f-b47a-b8e16ac11d6f",
   "metadata": {},
   "outputs": [
    {
     "data": {
      "text/plain": [
       "0.05084745762711865"
      ]
     },
     "execution_count": 72,
     "metadata": {},
     "output_type": "execute_result"
    }
   ],
   "source": [
    "kmeans = KMeans(n_clusters = 3, init = 'random', max_iter = 300, n_init = 10, random_state = 0)\n",
    "y_kmeans = kmeans.fit_predict(x_scaled)\n",
    "purity_score(y,y_kmeans)"
   ]
  },
  {
   "cell_type": "code",
   "execution_count": 73,
   "id": "65095144-a944-4a98-9e79-da9bcab7087b",
   "metadata": {},
   "outputs": [
    {
     "ename": "IndexError",
     "evalue": "index 1 is out of bounds for axis 1 with size 1",
     "output_type": "error",
     "traceback": [
      "\u001b[1;31m---------------------------------------------------------------------------\u001b[0m",
      "\u001b[1;31mIndexError\u001b[0m                                Traceback (most recent call last)",
      "\u001b[1;32m<ipython-input-73-ee11d0f5a188>\u001b[0m in \u001b[0;36m<module>\u001b[1;34m\u001b[0m\n\u001b[1;32m----> 1\u001b[1;33m \u001b[0mplt\u001b[0m\u001b[1;33m.\u001b[0m\u001b[0mscatter\u001b[0m\u001b[1;33m(\u001b[0m\u001b[0mx_scaled\u001b[0m\u001b[1;33m[\u001b[0m\u001b[0my_kmeans\u001b[0m \u001b[1;33m==\u001b[0m \u001b[1;36m0\u001b[0m\u001b[1;33m,\u001b[0m \u001b[1;36m0\u001b[0m\u001b[1;33m]\u001b[0m\u001b[1;33m,\u001b[0m \u001b[0mx_scaled\u001b[0m\u001b[1;33m[\u001b[0m\u001b[0my_kmeans\u001b[0m \u001b[1;33m==\u001b[0m \u001b[1;36m0\u001b[0m\u001b[1;33m,\u001b[0m \u001b[1;36m1\u001b[0m\u001b[1;33m]\u001b[0m\u001b[1;33m,\u001b[0m \u001b[0ms\u001b[0m \u001b[1;33m=\u001b[0m \u001b[1;36m100\u001b[0m\u001b[1;33m,\u001b[0m \u001b[0mc\u001b[0m \u001b[1;33m=\u001b[0m \u001b[1;34m'red'\u001b[0m\u001b[1;33m,\u001b[0m \u001b[0mlabel\u001b[0m \u001b[1;33m=\u001b[0m \u001b[1;34m'C1'\u001b[0m\u001b[1;33m)\u001b[0m\u001b[1;33m\u001b[0m\u001b[1;33m\u001b[0m\u001b[0m\n\u001b[0m\u001b[0;32m      2\u001b[0m \u001b[0mplt\u001b[0m\u001b[1;33m.\u001b[0m\u001b[0mscatter\u001b[0m\u001b[1;33m(\u001b[0m\u001b[0mx_scaled\u001b[0m\u001b[1;33m[\u001b[0m\u001b[0my_kmeans\u001b[0m \u001b[1;33m==\u001b[0m \u001b[1;36m1\u001b[0m\u001b[1;33m,\u001b[0m \u001b[1;36m0\u001b[0m\u001b[1;33m]\u001b[0m\u001b[1;33m,\u001b[0m \u001b[0mx_scaled\u001b[0m\u001b[1;33m[\u001b[0m\u001b[0my_kmeans\u001b[0m \u001b[1;33m==\u001b[0m \u001b[1;36m1\u001b[0m\u001b[1;33m,\u001b[0m \u001b[1;36m1\u001b[0m\u001b[1;33m]\u001b[0m\u001b[1;33m,\u001b[0m \u001b[0ms\u001b[0m \u001b[1;33m=\u001b[0m \u001b[1;36m100\u001b[0m\u001b[1;33m,\u001b[0m \u001b[0mc\u001b[0m \u001b[1;33m=\u001b[0m \u001b[1;34m'blue'\u001b[0m\u001b[1;33m,\u001b[0m \u001b[0mlabel\u001b[0m \u001b[1;33m=\u001b[0m \u001b[1;34m'C2'\u001b[0m\u001b[1;33m)\u001b[0m\u001b[1;33m\u001b[0m\u001b[1;33m\u001b[0m\u001b[0m\n\u001b[0;32m      3\u001b[0m \u001b[0mplt\u001b[0m\u001b[1;33m.\u001b[0m\u001b[0mscatter\u001b[0m\u001b[1;33m(\u001b[0m\u001b[0mx_scaled\u001b[0m\u001b[1;33m[\u001b[0m\u001b[0my_kmeans\u001b[0m \u001b[1;33m==\u001b[0m \u001b[1;36m2\u001b[0m\u001b[1;33m,\u001b[0m \u001b[1;36m0\u001b[0m\u001b[1;33m]\u001b[0m\u001b[1;33m,\u001b[0m \u001b[0mx_scaled\u001b[0m\u001b[1;33m[\u001b[0m\u001b[0my_kmeans\u001b[0m \u001b[1;33m==\u001b[0m \u001b[1;36m2\u001b[0m\u001b[1;33m,\u001b[0m \u001b[1;36m1\u001b[0m\u001b[1;33m]\u001b[0m\u001b[1;33m,\u001b[0m \u001b[0ms\u001b[0m \u001b[1;33m=\u001b[0m \u001b[1;36m100\u001b[0m\u001b[1;33m,\u001b[0m \u001b[0mc\u001b[0m \u001b[1;33m=\u001b[0m \u001b[1;34m'green'\u001b[0m\u001b[1;33m,\u001b[0m \u001b[0mlabel\u001b[0m \u001b[1;33m=\u001b[0m \u001b[1;34m'C3'\u001b[0m\u001b[1;33m)\u001b[0m\u001b[1;33m\u001b[0m\u001b[1;33m\u001b[0m\u001b[0m\n\u001b[0;32m      4\u001b[0m \u001b[0mplt\u001b[0m\u001b[1;33m.\u001b[0m\u001b[0mscatter\u001b[0m\u001b[1;33m(\u001b[0m\u001b[0mkmeans\u001b[0m\u001b[1;33m.\u001b[0m\u001b[0mcluster_centers_\u001b[0m\u001b[1;33m[\u001b[0m\u001b[1;33m:\u001b[0m\u001b[1;33m,\u001b[0m \u001b[1;36m0\u001b[0m\u001b[1;33m]\u001b[0m\u001b[1;33m,\u001b[0m \u001b[0mkmeans\u001b[0m\u001b[1;33m.\u001b[0m\u001b[0mcluster_centers_\u001b[0m\u001b[1;33m[\u001b[0m\u001b[1;33m:\u001b[0m\u001b[1;33m,\u001b[0m\u001b[1;36m1\u001b[0m\u001b[1;33m]\u001b[0m\u001b[1;33m,\u001b[0m \u001b[0ms\u001b[0m \u001b[1;33m=\u001b[0m \u001b[1;36m100\u001b[0m\u001b[1;33m,\u001b[0m \u001b[0mc\u001b[0m \u001b[1;33m=\u001b[0m \u001b[1;34m'yellow'\u001b[0m\u001b[1;33m,\u001b[0m \u001b[0mlabel\u001b[0m \u001b[1;33m=\u001b[0m \u001b[1;34m'Centroids'\u001b[0m\u001b[1;33m)\u001b[0m\u001b[1;33m\u001b[0m\u001b[1;33m\u001b[0m\u001b[0m\n\u001b[0;32m      5\u001b[0m \u001b[0mplt\u001b[0m\u001b[1;33m.\u001b[0m\u001b[0mlegend\u001b[0m\u001b[1;33m(\u001b[0m\u001b[1;33m)\u001b[0m\u001b[1;33m\u001b[0m\u001b[1;33m\u001b[0m\u001b[0m\n",
      "\u001b[1;31mIndexError\u001b[0m: index 1 is out of bounds for axis 1 with size 1"
     ]
    }
   ],
   "source": [
    "\n",
    "plt.scatter(x_scaled[y_kmeans == 0, 0], x_scaled[y_kmeans == 0, 1], s = 100, c = 'red', label = 'C1')\n",
    "plt.scatter(x_scaled[y_kmeans == 1, 0], x_scaled[y_kmeans == 1, 1], s = 100, c = 'blue', label = 'C2')\n",
    "plt.scatter(x_scaled[y_kmeans == 2, 0], x_scaled[y_kmeans == 2, 1], s = 100, c = 'green', label = 'C3')\n",
    "plt.scatter(kmeans.cluster_centers_[:, 0], kmeans.cluster_centers_[:,1], s = 100, c = 'yellow', label = 'Centroids')\n",
    "plt.legend()"
   ]
  },
  {
   "cell_type": "code",
   "execution_count": null,
   "id": "94cad7c5-046e-440d-b8e7-099dbe71bcb4",
   "metadata": {},
   "outputs": [],
   "source": []
  }
 ],
 "metadata": {
  "kernelspec": {
   "display_name": "Python 3",
   "language": "python",
   "name": "python3"
  },
  "language_info": {
   "codemirror_mode": {
    "name": "ipython",
    "version": 3
   },
   "file_extension": ".py",
   "mimetype": "text/x-python",
   "name": "python",
   "nbconvert_exporter": "python",
   "pygments_lexer": "ipython3",
   "version": "3.8.8"
  }
 },
 "nbformat": 4,
 "nbformat_minor": 5
}
