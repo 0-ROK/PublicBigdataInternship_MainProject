{
 "cells": [
  {
   "cell_type": "code",
   "execution_count": 1,
   "id": "ae510ab3-72ef-4569-a25a-dcf9cda43be2",
   "metadata": {
    "scrolled": true,
    "tags": []
   },
   "outputs": [],
   "source": [
    "# 버스정류장 수 대비 유동량 비교\n",
    "\n",
    "import pandas as pd\n",
    "born = pd.read_csv('법정동_데이터셋.csv',sep = ',', encoding = 'UTF-8')\n",
    "born\n",
    "import warnings\n",
    "warnings.filterwarnings('ignore')"
   ]
  },
  {
   "cell_type": "code",
   "execution_count": 2,
   "id": "81dd9aac-5e39-44a3-817d-572c92618f40",
   "metadata": {
    "tags": []
   },
   "outputs": [
    {
     "data": {
      "text/plain": [
       "Index(['법정동', '법정동코드', '택스_승차합', '택시_하차합', 'BUS_정류장_개수', 'BUS_탑승', 'BUS_하차',\n",
       "       'BUS_환승', '고령인구 발생량', '고령인구 도착량', '교통유동량', '버스혼잡도'],\n",
       "      dtype='object')"
      ]
     },
     "execution_count": 2,
     "metadata": {},
     "output_type": "execute_result"
    }
   ],
   "source": [
    "born.columns"
   ]
  },
  {
   "cell_type": "code",
   "execution_count": 3,
   "id": "1f75a982-7bcc-4c9f-80b3-035679d56cbf",
   "metadata": {
    "tags": []
   },
   "outputs": [
    {
     "data": {
      "image/png": "[encoded data removed]",
      "text/plain": [
       "<Figure size 432x288 with 9 Axes>"
      ]
     },
     "metadata": {
      "needs_background": "light"
     },
     "output_type": "display_data"
    }
   ],
   "source": [
    "import matplotlib.pyplot as plt\n",
    "import seaborn as sns\n",
    "\n",
    "plt.rcParams['font.family'] = 'NanumGothic'\n",
    "\n",
    "x = born[['택스_승차합', '택시_하차합', 'BUS_정류장_개수',\n",
    "         'BUS_탑승','BUS_하차','BUS_환승', '고령인구 발생량', '고령인구 도착량']]\n",
    "\n",
    "names = list(x.columns)\n",
    "fig, axes = plt.subplots(round(len(names)/3), 3) \n",
    "y = 0;\n",
    "for name in names:\n",
    "    i, j = divmod(y, 3) \n",
    "    sns.boxplot(x=x[name], ax=axes[i, j])\n",
    "    y = y + 1\n",
    "plt.tight_layout()\n",
    "plt.show()"
   ]
  },
  {
   "cell_type": "code",
   "execution_count": 4,
   "id": "f94c9c68-ccd6-4c93-8959-4ed4d2d1f6ac",
   "metadata": {
    "scrolled": true,
    "tags": []
   },
   "outputs": [
    {
     "data": {
      "text/html": [
       "<div>\n",
       "<style scoped>\n",
       "    .dataframe tbody tr th:only-of-type {\n",
       "        vertical-align: middle;\n",
       "    }\n",
       "\n",
       "    .dataframe tbody tr th {\n",
       "        vertical-align: top;\n",
       "    }\n",
       "\n",
       "    .dataframe thead th {\n",
       "        text-align: right;\n",
       "    }\n",
       "</style>\n",
       "<table border=\"1\" class=\"dataframe\">\n",
       "  <thead>\n",
       "    <tr style=\"text-align: right;\">\n",
       "      <th></th>\n",
       "      <th>택스_승차합</th>\n",
       "      <th>택시_하차합</th>\n",
       "      <th>BUS_탑승</th>\n",
       "      <th>BUS_하차</th>\n",
       "      <th>BUS_환승</th>\n",
       "      <th>고령인구 발생량</th>\n",
       "      <th>고령인구 도착량</th>\n",
       "    </tr>\n",
       "  </thead>\n",
       "  <tbody>\n",
       "    <tr>\n",
       "      <th>0</th>\n",
       "      <td>10407</td>\n",
       "      <td>8604</td>\n",
       "      <td>534244</td>\n",
       "      <td>443947</td>\n",
       "      <td>239119</td>\n",
       "      <td>886</td>\n",
       "      <td>1018</td>\n",
       "    </tr>\n",
       "    <tr>\n",
       "      <th>1</th>\n",
       "      <td>16079</td>\n",
       "      <td>14672</td>\n",
       "      <td>109486</td>\n",
       "      <td>90610</td>\n",
       "      <td>22056</td>\n",
       "      <td>391</td>\n",
       "      <td>102</td>\n",
       "    </tr>\n",
       "    <tr>\n",
       "      <th>2</th>\n",
       "      <td>6181</td>\n",
       "      <td>6680</td>\n",
       "      <td>52783</td>\n",
       "      <td>45757</td>\n",
       "      <td>5595</td>\n",
       "      <td>50</td>\n",
       "      <td>4</td>\n",
       "    </tr>\n",
       "    <tr>\n",
       "      <th>3</th>\n",
       "      <td>9901</td>\n",
       "      <td>12841</td>\n",
       "      <td>39214</td>\n",
       "      <td>32618</td>\n",
       "      <td>1133</td>\n",
       "      <td>28</td>\n",
       "      <td>7</td>\n",
       "    </tr>\n",
       "    <tr>\n",
       "      <th>4</th>\n",
       "      <td>32633</td>\n",
       "      <td>35952</td>\n",
       "      <td>181248</td>\n",
       "      <td>168749</td>\n",
       "      <td>10920</td>\n",
       "      <td>218</td>\n",
       "      <td>32</td>\n",
       "    </tr>\n",
       "    <tr>\n",
       "      <th>...</th>\n",
       "      <td>...</td>\n",
       "      <td>...</td>\n",
       "      <td>...</td>\n",
       "      <td>...</td>\n",
       "      <td>...</td>\n",
       "      <td>...</td>\n",
       "      <td>...</td>\n",
       "    </tr>\n",
       "    <tr>\n",
       "      <th>172</th>\n",
       "      <td>0</td>\n",
       "      <td>0</td>\n",
       "      <td>0</td>\n",
       "      <td>0</td>\n",
       "      <td>0</td>\n",
       "      <td>0</td>\n",
       "      <td>0</td>\n",
       "    </tr>\n",
       "    <tr>\n",
       "      <th>173</th>\n",
       "      <td>0</td>\n",
       "      <td>0</td>\n",
       "      <td>0</td>\n",
       "      <td>0</td>\n",
       "      <td>0</td>\n",
       "      <td>0</td>\n",
       "      <td>0</td>\n",
       "    </tr>\n",
       "    <tr>\n",
       "      <th>174</th>\n",
       "      <td>24</td>\n",
       "      <td>138</td>\n",
       "      <td>898</td>\n",
       "      <td>612</td>\n",
       "      <td>3</td>\n",
       "      <td>1</td>\n",
       "      <td>0</td>\n",
       "    </tr>\n",
       "    <tr>\n",
       "      <th>175</th>\n",
       "      <td>45</td>\n",
       "      <td>225</td>\n",
       "      <td>2525</td>\n",
       "      <td>1997</td>\n",
       "      <td>5</td>\n",
       "      <td>1</td>\n",
       "      <td>0</td>\n",
       "    </tr>\n",
       "    <tr>\n",
       "      <th>176</th>\n",
       "      <td>18845</td>\n",
       "      <td>23155</td>\n",
       "      <td>237213</td>\n",
       "      <td>197193</td>\n",
       "      <td>29536</td>\n",
       "      <td>127</td>\n",
       "      <td>9</td>\n",
       "    </tr>\n",
       "  </tbody>\n",
       "</table>\n",
       "<p>177 rows × 7 columns</p>\n",
       "</div>"
      ],
      "text/plain": [
       "     택스_승차합  택시_하차합  BUS_탑승  BUS_하차  BUS_환승  고령인구 발생량  고령인구 도착량\n",
       "0     10407    8604  534244  443947  239119       886      1018\n",
       "1     16079   14672  109486   90610   22056       391       102\n",
       "2      6181    6680   52783   45757    5595        50         4\n",
       "3      9901   12841   39214   32618    1133        28         7\n",
       "4     32633   35952  181248  168749   10920       218        32\n",
       "..      ...     ...     ...     ...     ...       ...       ...\n",
       "172       0       0       0       0       0         0         0\n",
       "173       0       0       0       0       0         0         0\n",
       "174      24     138     898     612       3         1         0\n",
       "175      45     225    2525    1997       5         1         0\n",
       "176   18845   23155  237213  197193   29536       127         9\n",
       "\n",
       "[177 rows x 7 columns]"
      ]
     },
     "execution_count": 4,
     "metadata": {},
     "output_type": "execute_result"
    }
   ],
   "source": [
    "Bus_stop = x['BUS_정류장_개수']\n",
    "data = x.drop('BUS_정류장_개수',axis = 1)\n",
    "data"
   ]
  },
  {
   "cell_type": "code",
   "execution_count": 5,
   "id": "75d2910c-b2ae-479a-9520-69e66bad8fc8",
   "metadata": {
    "tags": []
   },
   "outputs": [
    {
     "data": {
      "text/plain": [
       "(143, 7)"
      ]
     },
     "execution_count": 5,
     "metadata": {},
     "output_type": "execute_result"
    }
   ],
   "source": [
    "from sklearn.preprocessing import StandardScaler\n",
    "features = ['택스_승차합', '택시_하차합', 'BUS_탑승', 'BUS_하차', 'BUS_환승','고령인구 발생량', '고령인구 도착량']\n",
    "\n",
    "for a in features:\n",
    "    Q1 = data[a].quantile(0.25)\n",
    "    Q3 = data[a].quantile(0.75)\n",
    "    IQR = Q3-Q1\n",
    "\n",
    "outlier_index = data[ (data[a]<Q1-1.5*IQR) | (data[a]>Q3+1.5*IQR) ].index\n",
    "data.drop(outlier_index, inplace=True)\n",
    "scaler = StandardScaler()\n",
    "scaler.fit(data)\n",
    "data1 = scaler.transform(data)\n",
    "data1.shape                                     "
   ]
  },
  {
   "cell_type": "code",
   "execution_count": 6,
   "id": "0e91ac42-55a6-4597-8537-219ff19d3e49",
   "metadata": {
    "tags": []
   },
   "outputs": [
    {
     "name": "stdout",
     "output_type": "stream",
     "text": [
      "[1 1 0 1 0 0 1 1 0 0 0 1 1 1 1 1 1 1 1 1 1 1 1 1 1 1 1 1 1 1 1 1 1 1 1 1 0\n",
      " 0 1 1 1 1 0 0 0 0 1 1 1 1 1 1 1 1 1 0 0 0 0 0 0 0 1 1 1 1 1 1 1 1 1 1 1 1\n",
      " 1 1 1 1 1 1 1 0 0 0 1 1 0 1 1 0 1 0 1 1 1 1 1 1 1 1 1 1 1 1 0 1 1 1 1 0 0\n",
      " 1 1 1 1 1 1 0 1 0 1 1 1 0 0 0 0 0 1 1 1 1 1 1 1 1 1 1 1 1 1 1 0]\n"
     ]
    }
   ],
   "source": [
    "from sklearn.cluster import AgglomerativeClustering\n",
    "hc = AgglomerativeClustering(linkage = 'ward')\n",
    "agg = hc.fit_predict(data1)\n",
    "print(agg)\n",
    "#자동으로 계층분류"
   ]
  },
  {
   "cell_type": "code",
   "execution_count": 7,
   "id": "c9caf6f5-a815-4e05-b425-a17fb41a7f4e",
   "metadata": {},
   "outputs": [
    {
     "name": "stdout",
     "output_type": "stream",
     "text": [
      "0.63290\n",
      "152.95738\n"
     ]
    }
   ],
   "source": [
    "from sklearn.metrics import silhouette_score, calinski_harabasz_score\n",
    "S_score = silhouette_score(data1,agg)\n",
    "C_score = calinski_harabasz_score(data1,agg)\n",
    "print(\"{:.5f}\".format(S_score))\n",
    "print(\"{:.5f}\".format(C_score))"
   ]
  },
  {
   "cell_type": "code",
   "execution_count": 8,
   "id": "afb02058-4d1c-4428-b24b-01be15cadb60",
   "metadata": {
    "tags": []
   },
   "outputs": [
    {
     "data": {
      "image/png": "[encoded data removed]",
      "text/plain": [
       "<Figure size 720x504 with 1 Axes>"
      ]
     },
     "metadata": {
      "needs_background": "light"
     },
     "output_type": "display_data"
    }
   ],
   "source": [
    "# from scipy.cluster.hierarchy import linkage\n",
    "# from scipy.cluster.hierarchy import dendrogram\n",
    "# hc = linkage(X_stand, method = 'ward')\n",
    "# plt.figure(figsize =(10,10))\n",
    "# plt.xlabel('index')\n",
    "# plt.ylabel('distance')\n",
    "# dendrogram(hc)\n",
    "# plt.show()\n",
    "\n",
    "#계층 분석\n",
    "import scipy.cluster.hierarchy as shc\n",
    "plt.figure(figsize=(10,7))\n",
    "plt.title(\"Flow volume dendrogram\")\n",
    "dend = shc.dendrogram(shc.linkage(data1,method = 'ward'))\n",
    "# -> 군집의 특성을 봤을 때 3군집 그 이상은 별 차이 없을 듯."
   ]
  },
  {
   "cell_type": "code",
   "execution_count": 21,
   "id": "eb5f6109-d5ba-41ad-b0c3-41205c2101e9",
   "metadata": {},
   "outputs": [
    {
     "data": {
      "text/plain": [
       "array([1, 1, 0, 1, 0, 0, 1, 1, 2, 2, 0, 1, 1, 1, 1, 1, 1, 1, 1, 1, 1, 1,\n",
       "       1, 1, 1, 1, 1, 1, 1, 1, 1, 1, 1, 1, 1, 1, 0, 0, 1, 1, 1, 1, 0, 0,\n",
       "       0, 0, 1, 1, 1, 1, 1, 1, 1, 1, 1, 0, 0, 0, 0, 0, 0, 0, 1, 1, 1, 1,\n",
       "       1, 1, 1, 1, 1, 1, 1, 1, 1, 1, 1, 1, 1, 1, 1, 0, 0, 0, 1, 1, 2, 1,\n",
       "       1, 0, 1, 0, 1, 1, 1, 1, 1, 1, 1, 1, 1, 1, 1, 1, 0, 1, 1, 1, 1, 0,\n",
       "       0, 1, 1, 1, 1, 1, 1, 2, 1, 0, 1, 1, 1, 0, 0, 0, 0, 0, 1, 1, 1, 1,\n",
       "       1, 1, 1, 1, 1, 1, 1, 1, 1, 1, 0], dtype=int64)"
      ]
     },
     "execution_count": 21,
     "metadata": {},
     "output_type": "execute_result"
    }
   ],
   "source": [
    "from sklearn.cluster import AgglomerativeClustering\n",
    "\n",
    "cluster = AgglomerativeClustering(n_clusters = 3, affinity = 'euclidean',linkage = 'ward')\n",
    "cluster.fit_predict(data1)\n",
    "#값을 넣고 군집분석"
   ]
  },
  {
   "cell_type": "code",
   "execution_count": 24,
   "id": "01ead07a-5337-43e8-8b15-160a8f28d9af",
   "metadata": {
    "scrolled": true,
    "tags": []
   },
   "outputs": [
    {
     "data": {
      "text/plain": [
       "[7,\n",
       " 25,\n",
       " 7,\n",
       " 9,\n",
       " 12,\n",
       " 7,\n",
       " 11,\n",
       " 10,\n",
       " 14,\n",
       " 7,\n",
       " 7,\n",
       " 12,\n",
       " 15,\n",
       " 26,\n",
       " 19,\n",
       " 43,\n",
       " 21,\n",
       " 72,\n",
       " 32,\n",
       " 22,\n",
       " 18,\n",
       " 4,\n",
       " 14,\n",
       " 28,\n",
       " 15,\n",
       " 23,\n",
       " 4,\n",
       " 22,\n",
       " 13,\n",
       " 4,\n",
       " 13,\n",
       " 14]"
      ]
     },
     "execution_count": 24,
     "metadata": {},
     "output_type": "execute_result"
    }
   ],
   "source": [
    "#0 번 군집의 데이터들의 버스정류장 수\n",
    "[x for x,y in zip (Bus_stop,cluster.fit_predict(data1)) if y == 0]"
   ]
  },
  {
   "cell_type": "code",
   "execution_count": 25,
   "id": "41e276f1-5a6f-4916-baf9-6ec966bed478",
   "metadata": {
    "scrolled": true,
    "tags": []
   },
   "outputs": [
    {
     "data": {
      "text/plain": [
       "[7,\n",
       " 9,\n",
       " 10,\n",
       " 20,\n",
       " 10,\n",
       " 3,\n",
       " 10,\n",
       " 25,\n",
       " 17,\n",
       " 9,\n",
       " 13,\n",
       " 25,\n",
       " 6,\n",
       " 8,\n",
       " 16,\n",
       " 6,\n",
       " 6,\n",
       " 0,\n",
       " 6,\n",
       " 7,\n",
       " 4,\n",
       " 14,\n",
       " 8,\n",
       " 8,\n",
       " 4,\n",
       " 4,\n",
       " 0,\n",
       " 4,\n",
       " 6,\n",
       " 11,\n",
       " 14,\n",
       " 2,\n",
       " 8,\n",
       " 7,\n",
       " 24,\n",
       " 12,\n",
       " 13,\n",
       " 28,\n",
       " 5,\n",
       " 6,\n",
       " 2,\n",
       " 5,\n",
       " 18,\n",
       " 25,\n",
       " 16,\n",
       " 4,\n",
       " 2,\n",
       " 9,\n",
       " 7,\n",
       " 12,\n",
       " 8,\n",
       " 8,\n",
       " 19,\n",
       " 19,\n",
       " 43,\n",
       " 21,\n",
       " 9,\n",
       " 25,\n",
       " 12,\n",
       " 12,\n",
       " 17,\n",
       " 28,\n",
       " 22,\n",
       " 60,\n",
       " 5,\n",
       " 9,\n",
       " 12,\n",
       " 15,\n",
       " 12,\n",
       " 10,\n",
       " 5,\n",
       " 24,\n",
       " 11,\n",
       " 25,\n",
       " 8,\n",
       " 12,\n",
       " 13,\n",
       " 16,\n",
       " 5,\n",
       " 19,\n",
       " 10,\n",
       " 26,\n",
       " 34,\n",
       " 13,\n",
       " 12,\n",
       " 11,\n",
       " 18,\n",
       " 4,\n",
       " 12,\n",
       " 8,\n",
       " 7,\n",
       " 11,\n",
       " 24,\n",
       " 0,\n",
       " 11,\n",
       " 4,\n",
       " 11,\n",
       " 8,\n",
       " 0,\n",
       " 5,\n",
       " 3,\n",
       " 15,\n",
       " 9,\n",
       " 22,\n",
       " 6,\n",
       " 18,\n",
       " 19]"
      ]
     },
     "execution_count": 25,
     "metadata": {},
     "output_type": "execute_result"
    }
   ],
   "source": [
    "#1번 군집의 데이터들의 버스정류장 수\n",
    "[x for x,y in zip (Bus_stop,cluster.fit_predict(data1)) if y == 1]"
   ]
  },
  {
   "cell_type": "code",
   "execution_count": 26,
   "id": "0dc0f573-7a88-4eba-917e-95fe1713c4af",
   "metadata": {},
   "outputs": [
    {
     "data": {
      "text/plain": [
       "[33, 13, 19, 35]"
      ]
     },
     "execution_count": 26,
     "metadata": {},
     "output_type": "execute_result"
    }
   ],
   "source": [
    "[x for x,y in zip (Bus_stop,cluster.fit_predict(data1)) if y == 2]"
   ]
  },
  {
   "cell_type": "code",
   "execution_count": 27,
   "id": "d73529f5-8f73-42f4-b3e9-26ea77fd7d4d",
   "metadata": {},
   "outputs": [
    {
     "data": {
      "text/plain": [
       "17.1875"
      ]
     },
     "execution_count": 27,
     "metadata": {},
     "output_type": "execute_result"
    }
   ],
   "source": [
    "import numpy as np\n",
    "np.mean([x for x,y in zip (Bus_stop,cluster.fit_predict(data1)) if y == 0])\n",
    "# 0번 군집은 버스 정류장이 평균 18개"
   ]
  },
  {
   "cell_type": "code",
   "execution_count": 28,
   "id": "c46698dc-7ee4-497d-96aa-97a78b8289c9",
   "metadata": {},
   "outputs": [
    {
     "data": {
      "text/plain": [
       "12.336448598130842"
      ]
     },
     "execution_count": 28,
     "metadata": {},
     "output_type": "execute_result"
    }
   ],
   "source": [
    "np.mean([x for x,y in zip (Bus_stop,cluster.fit_predict(data1)) if y == 1])\n",
    "# 1번 군집은 버스정류장이 평균 12개"
   ]
  },
  {
   "cell_type": "code",
   "execution_count": 29,
   "id": "e2d44ae8-cd1f-497a-aa4a-b1c1d201c7f2",
   "metadata": {},
   "outputs": [
    {
     "data": {
      "text/plain": [
       "25.0"
      ]
     },
     "execution_count": 29,
     "metadata": {},
     "output_type": "execute_result"
    }
   ],
   "source": [
    "np.mean([x for x,y in zip (Bus_stop,cluster.fit_predict(data1)) if y == 2])"
   ]
  },
  {
   "cell_type": "code",
   "execution_count": 31,
   "id": "7735d162-7bc5-4745-ac53-4b21e4a1b079",
   "metadata": {
    "tags": []
   },
   "outputs": [
    {
     "data": {
      "text/plain": [
       "<matplotlib.collections.PathCollection at 0x2a0e7c9fdc0>"
      ]
     },
     "execution_count": 31,
     "metadata": {},
     "output_type": "execute_result"
    },
    {
     "data": {
      "image/png": "[encoded data removed]",
      "text/plain": [
       "<Figure size 720x504 with 1 Axes>"
      ]
     },
     "metadata": {
      "needs_background": "light"
     },
     "output_type": "display_data"
    }
   ],
   "source": [
    "plt.figure(figsize = (10,7))\n",
    "plt.scatter(data1[:,0],data1[:,1], c = cluster.labels_, cmap = 'rainbow')"
   ]
  },
  {
   "cell_type": "code",
   "execution_count": null,
   "id": "a69f04f1-04c9-416a-94ce-6007a4cf46fe",
   "metadata": {},
   "outputs": [],
   "source": []
  }
 ],
 "metadata": {
  "kernelspec": {
   "display_name": "Python 3",
   "language": "python",
   "name": "python3"
  },
  "language_info": {
   "codemirror_mode": {
    "name": "ipython",
    "version": 3
   },
   "file_extension": ".py",
   "mimetype": "text/x-python",
   "name": "python",
   "nbconvert_exporter": "python",
   "pygments_lexer": "ipython3",
   "version": "3.8.8"
  }
 },
 "nbformat": 4,
 "nbformat_minor": 5
}
